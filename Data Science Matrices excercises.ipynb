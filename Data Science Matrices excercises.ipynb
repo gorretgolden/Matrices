{
 "cells": [
  {
   "cell_type": "markdown",
   "id": "bd371d1e",
   "metadata": {},
   "source": [
    "# Data Science Excercise 1"
   ]
  },
  {
   "cell_type": "markdown",
   "id": "6d4a4d7e",
   "metadata": {},
   "source": [
    "#  let I and P represent the ingredients  and  price of ingredients respectively \n",
    "\n",
    "# Assumming that the prices of all ingredients were fluctuating for all the days hence a (5*5) five by five matrix as seen below"
   ]
  },
  {
   "cell_type": "code",
   "execution_count": 55,
   "id": "807587d6",
   "metadata": {},
   "outputs": [
    {
     "name": "stdout",
     "output_type": "stream",
     "text": [
      "Monday: [[ 2  9  3 10  4]]\n",
      "Tuesday: [[3 2 5 2 6]]\n",
      "Wednesday: [[4 1 3 7 3]]\n",
      "Thursday: [[ 5  8 10  5  2]]\n",
      "Friday: [[6 2 4 1 1]]\n",
      "\n",
      "\n",
      "I and P are a two dimensional matrices: 2 2\n",
      "\n",
      "\n",
      "Determinant of I is: -9683.999999999998\n",
      "\n",
      "\n",
      "Product of Ingredients and their price is:\n",
      " [[ 4860  7300 10300 15200 11800]\n",
      " [ 3600  4800  6900  9600  6900]\n",
      " [ 3810  5250  7450  9750  8000]\n",
      " [ 5000  6800 10300 15900 13400]\n",
      " [ 2930  3850  5850  8050  7600]]\n"
     ]
    }
   ],
   "source": [
    "import numpy as np\n",
    "\n",
    " \n",
    "#indices for the ingredients, let T,O,G,C and P represent Tomatoes,Onions,Garlic, Carrots and Paper respectively\n",
    "\n",
    "\n",
    "I = np.matrix('[ 2,9,3,10,4;3,2,5,2,6; 4,1,3,7,3; 5,8,10,5,2;  6,2,4,1,1]')\n",
    "  \n",
    "P = np.matrix('[300,400,600,700,800;100,200,300,600,500;120,100,200,400,300;200,300,400,500,400;250,350,450,550,200]')\n",
    " \n",
    "#Days\n",
    "print('Monday:',I[0][0])\n",
    "print('Tuesday:',I[1][0])\n",
    "print('Wednesday:',I[2][0]) \n",
    "print('Thursday:',I[3][0]) \n",
    "print('Friday:',I[4][0]) \n",
    "print('\\n')\n",
    "\n",
    "\n",
    "#number of dimensions\n",
    "print('I and P are a two dimensional matrices:',I.ndim, P.ndim)\n",
    "print('\\n')\n",
    "\n",
    "\n",
    "# Multiplication of the matrices I and P\n",
    "print('Product of Ingredients and their price is:\\n',I.dot(P))\n",
    "\n",
    "\n",
    "\n"
   ]
  },
  {
   "cell_type": "code",
   "execution_count": 56,
   "id": "66acdef1",
   "metadata": {},
   "outputs": [
    {
     "name": "stdout",
     "output_type": "stream",
     "text": [
      "[[ 2  3  4  5  6]\n",
      " [ 9  2  1  8  2]\n",
      " [ 3  5  3 10  4]\n",
      " [10  2  7  5  1]\n",
      " [ 4  6  3  2  1]]\n"
     ]
    }
   ],
   "source": [
    "#Transpose of I\n",
    "print(I.transpose())"
   ]
  },
  {
   "cell_type": "code",
   "execution_count": 57,
   "id": "7a933f35",
   "metadata": {},
   "outputs": [
    {
     "name": "stdout",
     "output_type": "stream",
     "text": [
      "[[300 100 120 200 250]\n",
      " [400 200 100 300 350]\n",
      " [600 300 200 400 450]\n",
      " [700 600 400 500 550]\n",
      " [800 500 300 400 200]]\n"
     ]
    }
   ],
   "source": [
    "#Transpose of P\n",
    "print(P.transpose())"
   ]
  },
  {
   "cell_type": "code",
   "execution_count": 30,
   "id": "56eddf5d",
   "metadata": {},
   "outputs": [
    {
     "name": "stdout",
     "output_type": "stream",
     "text": [
      "-9683.999999999998\n"
     ]
    }
   ],
   "source": [
    "#Determinant of I\n",
    "det = np.linalg.det(I)\n",
    "print('Determinant of I is:',det)\n",
    "print('\\n')"
   ]
  },
  {
   "cell_type": "code",
   "execution_count": 32,
   "id": "ecf9a94c",
   "metadata": {},
   "outputs": [
    {
     "name": "stdout",
     "output_type": "stream",
     "text": [
      "-39000000000.0\n"
     ]
    }
   ],
   "source": [
    "#Determinant of P\n",
    "det_P  = np.linalg.det(P)\n",
    "print(det_P)"
   ]
  },
  {
   "cell_type": "code",
   "execution_count": 33,
   "id": "1fc8d35c",
   "metadata": {},
   "outputs": [
    {
     "name": "stdout",
     "output_type": "stream",
     "text": [
      "[[ 0.03541925 -0.0291202  -0.01084263 -0.09520859  0.25598926]\n",
      " [ 0.12938868 -0.00433705 -0.18246592 -0.0212722   0.09840975]\n",
      " [-0.1287691   0.01548947  0.08023544  0.17121024 -0.1609872 ]\n",
      " [-0.00402726 -0.07249071  0.16449814  0.02540273 -0.09324659]\n",
      " [ 0.04781082  0.19392813 -0.05545229 -0.09644775  0.00444031]]\n"
     ]
    }
   ],
   "source": [
    "#Inverse of I\n",
    "invI = np.linalg.inv(I)\n",
    "print(invI)"
   ]
  },
  {
   "cell_type": "code",
   "execution_count": 34,
   "id": "ac660be0",
   "metadata": {},
   "outputs": [
    {
     "name": "stdout",
     "output_type": "stream",
     "text": [
      "[[-0.01923077 -0.02179487  0.02435897  0.05897436 -0.02307692]\n",
      " [-0.02769231 -0.01205128  0.00641026  0.08025641 -0.02923077]\n",
      " [ 0.03923077  0.02179487 -0.02435897 -0.10897436  0.04307692]\n",
      " [-0.00461538  0.00076923  0.00384615  0.00615385 -0.00153846]\n",
      " [-0.00307692 -0.00282051  0.0025641   0.01410256 -0.00769231]]\n"
     ]
    }
   ],
   "source": [
    "#Inverse of P\n",
    "invP = np.linalg.inv(P)\n",
    "print(invP)"
   ]
  },
  {
   "cell_type": "code",
   "execution_count": 59,
   "id": "0f4f1147",
   "metadata": {},
   "outputs": [
    {
     "name": "stdout",
     "output_type": "stream",
     "text": [
      "\n",
      " [[1. 0. 0. 0. 0.]\n",
      " [0. 1. 0. 0. 0.]\n",
      " [0. 0. 1. 0. 0.]\n",
      " [0. 0. 0. 1. 0.]\n",
      " [0. 0. 0. 0. 1.]]\n",
      "\n",
      "\n",
      "Identity matrix of I is\n",
      ": [[ 2.  9.  3. 10.  4.]\n",
      " [ 3.  2.  5.  2.  6.]\n",
      " [ 4.  1.  3.  7.  3.]\n",
      " [ 5.  8. 10.  5.  2.]\n",
      " [ 6.  2.  4.  1.  1.]]\n"
     ]
    }
   ],
   "source": [
    "#identity matrix\n",
    "# let id represent the identity matrix of a five by five\n",
    "id = np.identity(5)\n",
    "print('\\n',id)\n",
    "print('\\n')\n",
    "\n",
    "#Finding the identity product of I\n",
    "print('Identity matrix of I is\\n:', I.dot(id))\n"
   ]
  },
  {
   "cell_type": "code",
   "execution_count": null,
   "id": "6c351669",
   "metadata": {},
   "outputs": [],
   "source": [
    "#The matrices are linearly dependant with the fact that their determinants are not zero "
   ]
  },
  {
   "cell_type": "markdown",
   "id": "acc4c7cc",
   "metadata": {},
   "source": [
    "# End of Excercise"
   ]
  },
  {
   "cell_type": "markdown",
   "id": "9611602b",
   "metadata": {},
   "source": [
    "# Using a Column Matrix\n"
   ]
  },
  {
   "cell_type": "code",
   "execution_count": 37,
   "id": "15465b0a",
   "metadata": {},
   "outputs": [
    {
     "name": "stdout",
     "output_type": "stream",
     "text": [
      "Product of I and P is: \n",
      " [[14500]\n",
      " [ 9600]\n",
      " [ 9400]\n",
      " [14100]\n",
      " [ 5900]]\n"
     ]
    }
   ],
   "source": [
    "import numpy as np\n",
    "\n",
    "I = np.matrix('[ 2,9,3,10,4;3,2,5,2,6; 4,1,3,7,3; 5,8,10,5,2;  6,2,4,1,1]')\n",
    "P = np.matrix('[300;400;500;600;700]')\n",
    "\n",
    "#product\n",
    "product = I.dot(P)\n",
    "print('Product of I and P is: \\n',product)"
   ]
  },
  {
   "cell_type": "code",
   "execution_count": 53,
   "id": "237d7f23",
   "metadata": {},
   "outputs": [
    {
     "name": "stdout",
     "output_type": "stream",
     "text": [
      "[[ 2  3  4  5  6]\n",
      " [ 9  2  1  8  2]\n",
      " [ 3  5  3 10  4]\n",
      " [10  2  7  5  1]\n",
      " [ 4  6  3  2  1]]\n"
     ]
    }
   ],
   "source": [
    "#transpose I\n",
    "print(I.transpose())"
   ]
  },
  {
   "cell_type": "code",
   "execution_count": 34,
   "id": "fee26270",
   "metadata": {},
   "outputs": [
    {
     "name": "stdout",
     "output_type": "stream",
     "text": [
      "P transpose is: [[300 100 120 200 250]\n",
      " [400 200 100 300 350]\n",
      " [600 300 200 400 450]\n",
      " [700 600 400 500 550]\n",
      " [800 500 300 400 200]]\n"
     ]
    }
   ],
   "source": [
    "#transpose P\n",
    "print('P transpose is:',P.transpose())"
   ]
  },
  {
   "cell_type": "code",
   "execution_count": 31,
   "id": "9513bdac",
   "metadata": {},
   "outputs": [
    {
     "name": "stdout",
     "output_type": "stream",
     "text": [
      "Determinant of I is : -9684\n"
     ]
    }
   ],
   "source": [
    "#Determinant of I\n",
    "det = np.linalg.det(I)\n",
    "print('Determinant of I is :',round(det))"
   ]
  },
  {
   "cell_type": "markdown",
   "id": "2635dadd",
   "metadata": {},
   "source": [
    "#Determinant of a coloumn vector or matrix cannot be done hence P is linearly independant\n"
   ]
  },
  {
   "cell_type": "code",
   "execution_count": 70,
   "id": "07d14dd2",
   "metadata": {},
   "outputs": [
    {
     "name": "stdout",
     "output_type": "stream",
     "text": [
      "[[ 0.03541925 -0.0291202  -0.01084263 -0.09520859  0.25598926]\n",
      " [ 0.12938868 -0.00433705 -0.18246592 -0.0212722   0.09840975]\n",
      " [-0.1287691   0.01548947  0.08023544  0.17121024 -0.1609872 ]\n",
      " [-0.00402726 -0.07249071  0.16449814  0.02540273 -0.09324659]\n",
      " [ 0.04781082  0.19392813 -0.05545229 -0.09644775  0.00444031]]\n"
     ]
    }
   ],
   "source": [
    "#inverse of I\n",
    "invI = np.linalg.inv(I)\n",
    "print(invI )"
   ]
  },
  {
   "cell_type": "code",
   "execution_count": null,
   "id": "a3cc1c00",
   "metadata": {},
   "outputs": [],
   "source": [
    "#inverse of P \n",
    "#This cannot be found with the fact that P is a column vector/matrix hence no major diagonal hence the determinant cannot be found"
   ]
  },
  {
   "cell_type": "code",
   "execution_count": null,
   "id": "424a7f9b",
   "metadata": {},
   "outputs": [],
   "source": []
  }
 ],
 "metadata": {
  "kernelspec": {
   "display_name": "Python 3",
   "language": "python",
   "name": "python3"
  },
  "language_info": {
   "codemirror_mode": {
    "name": "ipython",
    "version": 3
   },
   "file_extension": ".py",
   "mimetype": "text/x-python",
   "name": "python",
   "nbconvert_exporter": "python",
   "pygments_lexer": "ipython3",
   "version": "3.8.8"
  }
 },
 "nbformat": 4,
 "nbformat_minor": 5
}
